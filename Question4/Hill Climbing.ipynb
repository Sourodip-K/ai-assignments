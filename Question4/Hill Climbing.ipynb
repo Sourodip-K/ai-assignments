{
 "cells": [
  {
   "cell_type": "code",
   "execution_count": 1,
   "id": "24dfbba5",
   "metadata": {},
   "outputs": [],
   "source": [
    "# Import Libraries\n",
    "from numpy import asarray\n",
    "from numpy import arange\n",
    "from numpy.random import randn\n",
    "from numpy.random import rand\n",
    "from numpy.random import seed\n",
    "from matplotlib import pyplot"
   ]
  },
  {
   "cell_type": "code",
   "execution_count": 5,
   "id": "6ff44280",
   "metadata": {},
   "outputs": [],
   "source": [
    "# objective function\n",
    "def objective(x):\n",
    "    return x[0]**6.0"
   ]
  },
  {
   "cell_type": "code",
   "execution_count": 6,
   "id": "32858b33",
   "metadata": {
    "scrolled": true
   },
   "outputs": [],
   "source": [
    "# hill climbing local search algorithm\n",
    "def hillclimbing(objective, bounds, n_iterations, step_size):\n",
    "    # generate an initial point\n",
    "    solution = bounds[:, 0] + rand(len(bounds)) * (bounds[:, 1] - bounds[:, 0])\n",
    "    # evaluate the initial point\n",
    "    solution_eval = objective(solution)\n",
    "    # run the hill climb\n",
    "    solutions = list()\n",
    "    solutions.append(solution)\n",
    "    for i in range(n_iterations):\n",
    "        # take a step\n",
    "        candidate = solution + randn(len(bounds)) * step_size\n",
    "        # evaluate candidate point\n",
    "        candidte_eval = objective(candidate)\n",
    "        # check if we should keep the new point\n",
    "        if candidte_eval <= solution_eval:\n",
    "            # store the new point\n",
    "            solution, solution_eval = candidate, candidte_eval\n",
    "            # keep track of solutions\n",
    "            solutions.append(solution)\n",
    "            # report progress\n",
    "            print('>%d f(%s) = %.5f' % (i, solution, solution_eval))\n",
    "    return [solution, solution_eval, solutions]"
   ]
  },
  {
   "cell_type": "code",
   "execution_count": 7,
   "id": "1d2ac35d",
   "metadata": {},
   "outputs": [
    {
     "name": "stdout",
     "output_type": "stream",
     "text": [
      ">1 f([-2.74290923]) = 425.86173\n",
      ">3 f([-2.65873147]) = 353.22127\n",
      ">4 f([-2.52197291]) = 257.30161\n",
      ">5 f([-2.46450214]) = 224.06561\n",
      ">7 f([-2.44740961]) = 214.90176\n",
      ">9 f([-2.28364676]) = 141.83178\n",
      ">12 f([-2.19245939]) = 111.06810\n",
      ">14 f([-2.01001538]) = 65.94719\n",
      ">15 f([-1.86425287]) = 41.97869\n",
      ">22 f([-1.79913002]) = 33.91371\n",
      ">24 f([-1.57525573]) = 15.27940\n",
      ">25 f([-1.55047719]) = 13.89288\n",
      ">26 f([-1.51783757]) = 12.22790\n",
      ">27 f([-1.49118756]) = 10.99496\n",
      ">28 f([-1.45344116]) = 9.42724\n",
      ">30 f([-1.33055275]) = 5.54872\n",
      ">32 f([-1.17805016]) = 2.67290\n",
      ">33 f([-1.15189314]) = 2.33600\n",
      ">36 f([-1.03852644]) = 1.25460\n",
      ">37 f([-0.99135322]) = 0.94923\n",
      ">38 f([-0.79448984]) = 0.25150\n",
      ">39 f([-0.69837955]) = 0.11602\n",
      ">42 f([-0.69317313]) = 0.11093\n",
      ">46 f([-0.61801423]) = 0.05572\n",
      ">48 f([-0.48799625]) = 0.01351\n",
      ">50 f([-0.22149135]) = 0.00012\n",
      ">54 f([-0.20017144]) = 0.00006\n",
      ">57 f([-0.15994446]) = 0.00002\n",
      ">60 f([-0.15492485]) = 0.00001\n",
      ">61 f([-0.03572481]) = 0.00000\n",
      ">64 f([-0.03051261]) = 0.00000\n",
      ">66 f([-0.0074283]) = 0.00000\n",
      ">78 f([-0.00202357]) = 0.00000\n",
      ">119 f([0.00128373]) = 0.00000\n",
      ">120 f([-0.00040911]) = 0.00000\n",
      ">314 f([-0.00017051]) = 0.00000\n",
      "Done!\n",
      "f([-0.00017051]) = 0.000000\n"
     ]
    },
    {
     "data": {
      "image/png": "[encoded data removed]",
      "text/plain": [
       "<Figure size 432x288 with 1 Axes>"
      ]
     },
     "metadata": {
      "needs_background": "light"
     },
     "output_type": "display_data"
    }
   ],
   "source": [
    "# seed the pseudorandom number generator\n",
    "seed(5)\n",
    "# define range for input\n",
    "bounds = asarray([[-5.0, 5.0]])\n",
    "# define the total iterations\n",
    "n_iterations = 1000\n",
    "# define the maximum step size\n",
    "step_size = 0.1\n",
    "# perform the hill climbing search\n",
    "best, score, solutions = hillclimbing(objective, bounds, n_iterations, step_size)\n",
    "print('Done!')\n",
    "print('f(%s) = %f' % (best, score))\n",
    "# sample input range uniformly at 0.1 increments\n",
    "inputs = arange(bounds[0,0], bounds[0,1], 0.1)\n",
    "# create a line plot of input vs result\n",
    "pyplot.plot(inputs, [objective([x]) for x in inputs], '--')\n",
    "# draw a vertical line at the optimal input\n",
    "pyplot.axvline(x=[0.0], ls='--', color='red')\n",
    "# plot the sample as black circles\n",
    "pyplot.plot(solutions, [objective(x) for x in solutions], 'o', color='black')\n",
    "pyplot.show()"
   ]
  }
 ],
 "metadata": {
  "kernelspec": {
   "display_name": "Python 3",
   "language": "python",
   "name": "python3"
  },
  "language_info": {
   "codemirror_mode": {
    "name": "ipython",
    "version": 3
   },
   "file_extension": ".py",
   "mimetype": "text/x-python",
   "name": "python",
   "nbconvert_exporter": "python",
   "pygments_lexer": "ipython3",
   "version": "3.8.8"
  }
 },
 "nbformat": 4,
 "nbformat_minor": 5
}
